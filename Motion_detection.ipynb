{
 "cells": [
  {
   "cell_type": "code",
   "execution_count": 1,
   "metadata": {},
   "outputs": [],
   "source": [
    "import cv2,time\n",
    "\n",
    "#taking 3 frames \n",
    "def frame_diff(x,y,z):\n",
    "    img1=cv2.absdiff(x,y)\n",
    "    img2=cv2.absdiff(y,z)\n",
    "    com_diff=cv2.bitwise_and(img1,img2)\n",
    "    return com_diff\n",
    "\n",
    "cap = cv2.VideoCapture(0)\n",
    "\n",
    "#Taking 3 consecutive frames\n",
    "#checkstatus = capture.read()[0]\n",
    "frame1 = cap.read(0)[1]\n",
    "frame2 = cap.read(0)[1]\n",
    "frame3 = cap.read(0)[1]\n",
    "\n",
    "#Converting into GrayScale\n",
    "gray1=cv2.cvtColor(frame1,cv2.COLOR_BGR2GRAY)\n",
    "gray2=cv2.cvtColor(frame2,cv2.COLOR_BGR2GRAY)\n",
    "gray3=cv2.cvtColor(frame3,cv2.COLOR_BGR2GRAY)\n",
    "\n",
    "while cap.isOpened():\n",
    "    img_diff=frame_diff(gray1,gray2,gray3)\n",
    "    cv2.imshow(\"Difference Image\", img_diff)\n",
    "    \n",
    "    status,frame=cap.read(0)\n",
    "    \n",
    "    gray1=gray2\n",
    "    gray2=gray3\n",
    "    gray3=cv2.cvtColor(frame,cv2.COLOR_BGR2GRAY)\n",
    "    \n",
    "    if cv2.waitKey(1) & 0xFF == ord('q'):\n",
    "        break\n",
    "            \n",
    "    \n",
    "cv2.destroyAllWindows()\n",
    "cap.release()"
   ]
  },
  {
   "cell_type": "code",
   "execution_count": null,
   "metadata": {},
   "outputs": [],
   "source": []
  }
 ],
 "metadata": {
  "kernelspec": {
   "display_name": "Python 3",
   "language": "python",
   "name": "python3"
  },
  "language_info": {
   "codemirror_mode": {
    "name": "ipython",
    "version": 3
   },
   "file_extension": ".py",
   "mimetype": "text/x-python",
   "name": "python",
   "nbconvert_exporter": "python",
   "pygments_lexer": "ipython3",
   "version": "3.5.2"
  }
 },
 "nbformat": 4,
 "nbformat_minor": 2
}
