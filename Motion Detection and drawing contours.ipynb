{
 "cells": [
  {
   "cell_type": "code",
   "execution_count": 1,
   "metadata": {},
   "outputs": [],
   "source": [
    "#!/usr/bin/python3\n",
    "import cv2\n",
    "import numpy as np\n",
    "# capture \n",
    "cap=cv2.VideoCapture(0)\n",
    "while True:\n",
    "    # reading frame\n",
    "    status,frame=cap.read()\n",
    "    status,frame1=cap.read()\n",
    "    #  image difference \n",
    "    dimg=cv2.absdiff(frame,frame1)\n",
    "    #  gray of diff images\n",
    "    grayd=cv2.cvtColor(dimg,cv2.COLOR_BGR2GRAY)\n",
    "    # gaussianblur in the image\n",
    "    blur=cv2.GaussianBlur(grayd,(5,5),0)\n",
    "    # threshold image\n",
    "    ret,ths=cv2.threshold(blur,20,255,cv2.THRESH_BINARY)\n",
    "    # dialated image\n",
    "    dilated=cv2.dilate(ths,np.ones((3,3),np.uint8),iterations=3)\n",
    "    # finding and applying coutours\n",
    "    img,c,h=cv2.findContours(dilated,cv2.RETR_TREE,cv2.CHAIN_APPROX_SIMPLE)\n",
    "    cv2.drawContours(frame1,c,-1,(0,0,255),2)\n",
    "    cv2.imshow('original',frame)\n",
    "    cv2.imshow('diff',frame1)\n",
    "    if  cv2.waitKey(1) & 0xFF == ord('q'):\n",
    "        break\n",
    "\n",
    "cv2.destroyAllWindows()\n",
    "cap.release()\n"
   ]
  },
  {
   "cell_type": "code",
   "execution_count": null,
   "metadata": {},
   "outputs": [],
   "source": []
  }
 ],
 "metadata": {
  "kernelspec": {
   "display_name": "Python 3",
   "language": "python",
   "name": "python3"
  },
  "language_info": {
   "codemirror_mode": {
    "name": "ipython",
    "version": 3
   },
   "file_extension": ".py",
   "mimetype": "text/x-python",
   "name": "python",
   "nbconvert_exporter": "python",
   "pygments_lexer": "ipython3",
   "version": "3.5.2"
  }
 },
 "nbformat": 4,
 "nbformat_minor": 2
}
