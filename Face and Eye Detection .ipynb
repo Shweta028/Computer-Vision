{
 "cells": [
  {
   "cell_type": "code",
   "execution_count": 9,
   "metadata": {},
   "outputs": [],
   "source": [
    "#import modules\n",
    "import numpy as np\n",
    "import cv2\n",
    "\n",
    "#Download haarcascades for face and eye from (https://github.com/opencv/opencv/tree/master/data/haarcascades)\n",
    "\n",
    "#Load these cascsdes to the code\n",
    "face_cascade = cv2.CascadeClassifier('haarcascade_frontalface_default.xml')\n",
    "eye_cascade  = cv2.CascadeClassifier('haarcascade_eye.xml')\n",
    "\n",
    "#Initialize the Camera object \n",
    "capture = cv2.VideoCapture(0)\n",
    "\n",
    "#Keep reading live frames from Webcam \n",
    "while True:\n",
    "    check,img = capture.read(0)\n",
    "    gray = cv2.cvtColor(img, cv2.COLOR_BGR2GRAY)  #Convert to Gray Scale\n",
    "    faces = face_cascade.detectMultiScale(gray)   #MultiScale is used to Detect multiple concerned objects i.e. multiple faces \n",
    "    \n",
    "    for (x,y,w,h) in faces:\n",
    "        cv2.rectangle(img, (x,y), (x+w, y+h), (255,0,0), 2)  \n",
    "        roi_gray = gray[y:y+h, x:x+w]\n",
    "        roi_color = img[y:y+h, x:x+h]\n",
    "        eyes = eye_cascade.detectMultiScale(roi_gray)\n",
    "        for (ex,ey,ew,eh) in eyes:\n",
    "            cv2.rectangle(roi_color, (ex,ey), (ex+ew, ey+eh), (0,255,0), 2)\n",
    "            \n",
    "    cv2.imshow('Detecting Faces and Eyes', img)\n",
    "    if cv2.waitKey(1) & 0xff == ord('q'): \n",
    "        break\n",
    "        \n",
    "capture.release()\n",
    "cv2.destroyAllWindows()"
   ]
  },
  {
   "cell_type": "code",
   "execution_count": null,
   "metadata": {},
   "outputs": [],
   "source": []
  }
 ],
 "metadata": {
  "kernelspec": {
   "display_name": "Python 3",
   "language": "python",
   "name": "python3"
  },
  "language_info": {
   "codemirror_mode": {
    "name": "ipython",
    "version": 3
   },
   "file_extension": ".py",
   "mimetype": "text/x-python",
   "name": "python",
   "nbconvert_exporter": "python",
   "pygments_lexer": "ipython3",
   "version": "3.5.2"
  }
 },
 "nbformat": 4,
 "nbformat_minor": 2
}
